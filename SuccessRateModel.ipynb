{
 "cells": [
  {
   "cell_type": "code",
   "execution_count": 1,
   "metadata": {},
   "outputs": [],
   "source": [
    "import os\n",
    "MainDir=  \"/home/andrewoc98/Cs4287/DATA_08_11/\"#Main folder that holds all the files\n",
    "DataDir= \"/home/andrewoc98/Cs4287/DATA_08_11/Maps/\" #Directory that holds map files\n",
    "PlayerDir=\"/home/andrewoc98/Cs4287/DATA_08_11/Players/\" # Directory that holds player files\n",
    "\n",
    "if not os.path.exists(DataDir):\n",
    "    os.makedirs(DataDir)\n",
    "    for file in os.listdir(MainDir):\n",
    "        if file[0:3]==\"map_\" :\n",
    "            os.rename(MainDir+file, DataDir+file)\n",
    "if not os.path.exists(PlayerDir):\n",
    "    os.makedirs(PlayerDir)\n",
    "    for file in os.listdir(MainDir):\n",
    "        if file[0:3]==\"play\":\n",
    "            os.rename(MainDir+file, PlayerDir+file)  "
   ]
  },
  {
   "cell_type": "code",
   "execution_count": 2,
   "metadata": {},
   "outputs": [],
   "source": [
    "#Mirror flips the array as if it was mirrored\n",
    "def mirror(seq):\n",
    "    output = list(seq[::-1])\n",
    "    output.extend(seq[1:])\n",
    "    return output\n",
    "\n",
    "#Pixeloffset swaps the first pixel that is not 'empty' and swaps it with the previous entry in the array\n",
    "def pixeloffset(seq):\n",
    "    loopBreaker= False\n",
    "    for i in range(len(seq)):\n",
    "        for j in range(len(seq[i])):\n",
    "            if seq[i][j] !=0 or seq[i][j] !=\"0\":\n",
    "                seq[i][j-1]=seq[i][j-1]\n",
    "                seq[i][j]=0\n",
    "                loopBreaker=True\n",
    "                break\n",
    "        if loopBreaker==True:\n",
    "            break\n",
    "    return seq\n",
    "\n",
    "\n",
    "#Channeler Splits the map in 5 seperate arrays where each level contains one kind of information i.e ch1 is healthpacks\n",
    "def Channeler(seq):\n",
    "    ch1=np.zeros((49,49))\n",
    "    ch2=np.zeros((49,49))\n",
    "    ch3=np.zeros((49,49))\n",
    "    ch4=np.zeros((49,49))\n",
    "    ch5=np.zeros((49,49))\n",
    "    for c in range(1,len(ch1)):\n",
    "            for cc in range(1,len(ch1[c])):\n",
    "                \n",
    "                if seq[c][cc]==10 or seq[c][cc]==\"10\":\n",
    "                    ch1[c][cc]=10\n",
    "                if seq[c][cc]==9 or seq[c][cc]==\"9\":\n",
    "                    ch2[c][cc]=9\n",
    "                if seq[c][cc]==8 or seq[c][cc]==\"8\":\n",
    "                    ch3[c][cc]=8\n",
    "                if seq[c][cc]==2 or seq[c][cc]==\"2\":\n",
    "                    ch4[c][cc]=2\n",
    "                if seq[c][cc]==1 or seq[c][cc]==\"1\":\n",
    "                    ch5[c][cc]=1\n",
    "    return np.dstack((ch1,ch2,ch3,ch4,ch5))\n",
    "            "
   ]
  },
  {
   "cell_type": "code",
   "execution_count": 3,
   "metadata": {},
   "outputs": [],
   "source": [
    "#Imports\n",
    "import numpy as np\n",
    "import matplotlib.pyplot as plt\n",
    "import cv2\n",
    "import csv\n",
    "import pandas as pd\n",
    "\n",
    "#Declaring Varibles\n",
    "Collection={} #Is a dictionary that holds both the map id and the map format is mapid:map\n",
    "RegularMapArray=[] #Contains the 2 array version of the maps\n",
    "\n",
    "#Loading in map data\n",
    "for file in os.listdir(DataDir):\n",
    "    with open(DataDir+file) as csvfile:\n",
    "        file=file[4:len(file)-4]\n",
    "        reader = csv.reader(csvfile, quoting=csv.QUOTE_NONE)\n",
    "        files= list(reader)\n",
    "        RegularMapArray.append(files)\n",
    "        Collection.update({file:Channeler(files)})"
   ]
  },
  {
   "cell_type": "code",
   "execution_count": 4,
   "metadata": {},
   "outputs": [],
   "source": [
    "#Loading in Player data\n",
    "PlayerStats=[] # blank list that details will be appended to\n",
    "\n",
    "#Looping through directory\n",
    "for file in os.listdir(PlayerDir):\n",
    "    with open(PlayerDir+file) as csvfile:\n",
    "        #Removing all null variables\n",
    "        reader = csv.reader(x.replace('\\0', '') for x in csvfile)\n",
    "        PlayerStats.append(list(reader))\n",
    "        \n",
    "        \n",
    " #Player array fromat is PlayerStats[File][Row][Column]      "
   ]
  },
  {
   "cell_type": "code",
   "execution_count": 5,
   "metadata": {},
   "outputs": [],
   "source": [
    "#Removing all empty parts of the Array\n",
    "j=0\n",
    "emptyList=[[]]\n",
    "for i in range(len(PlayerStats)):\n",
    "    if PlayerStats[i]==emptyList:\n",
    "        j=j+1\n",
    "for i in range(j):\n",
    "    PlayerStats.remove(emptyList)   "
   ]
  },
  {
   "cell_type": "code",
   "execution_count": 6,
   "metadata": {
    "scrolled": false
   },
   "outputs": [],
   "source": [
    "#Assinging a Winrate to all aplicable maps\n",
    "\n",
    "UserStatsArray=[]#List containing lists of winrates and maps in this format [[Winrate,Map],[Winrate,map]...] \n",
    "UnUsedMaps=[]#List of maps that are not in the directory\n",
    "counter=0#Counter \n",
    "\n",
    "#loops Through all player details\n",
    "for i in range(len(PlayerStats)):\n",
    "    for counter in range(1, len(PlayerStats[i])-1):\n",
    "        WinRate=0\n",
    "        WinRate=(int(PlayerStats[i][counter][1]))/(int(PlayerStats[i][counter][1])+int(PlayerStats[i][counter][2])+int(PlayerStats[i][counter][3]))\n",
    "        \n",
    "        #Trys to append to the the map associated with the id and if it is not availible I add the id to an array\n",
    "        try:\n",
    "            UserStatsArray.append([Collection[PlayerStats[i][counter][0]],WinRate])\n",
    "        except:\n",
    "            UnUsedMaps.append(PlayerStats[i][counter][0])  "
   ]
  },
  {
   "cell_type": "code",
   "execution_count": 7,
   "metadata": {},
   "outputs": [],
   "source": [
    "#Data Augmentation\n",
    "OtherCollection={}\n",
    "\n",
    "#Mirrors first set of maps in the data set an asssigns that mirrored map the same winrate as the original map \n",
    "for i in range(int(len(UnUsedMaps)/2)):\n",
    "        files= mirror(RegularMapArray[i])\n",
    "        OtherCollection.update({UnUsedMaps[i]:Channeler(files)})\n",
    "        \n",
    "#Preforms a pixel offset first set of maps in the data set an asssigns that mirrored map the same winrate as \n",
    "#the original map        \n",
    "for i in range(int(len(UnUsedMaps)/2),len(UnUsedMaps)):\n",
    "    files= pixeloffset(RegularMapArray[i])\n",
    "    OtherCollection.update({UnUsedMaps[i]:Channeler(files)})\n",
    "i=0\n",
    "#appends these new maps to th userStatsArray\n",
    "for key in OtherCollection:\n",
    "    UserStatsArray.append([OtherCollection[key],UserStatsArray[i][1]])\n",
    "    i=i+1"
   ]
  },
  {
   "cell_type": "code",
   "execution_count": 26,
   "metadata": {},
   "outputs": [
    {
     "name": "stdout",
     "output_type": "stream",
     "text": [
      "Epoch 1/10\n",
      "127/127 [==============================] - 49s 389ms/step - loss: 0.0409 - mae: 0.1628 - val_loss: 0.0360 - val_mae: 0.1553\n",
      "Epoch 2/10\n",
      "127/127 [==============================] - 53s 415ms/step - loss: 0.0367 - mae: 0.1542 - val_loss: 0.0348 - val_mae: 0.1496\n",
      "Epoch 3/10\n",
      "127/127 [==============================] - 50s 397ms/step - loss: 0.0339 - mae: 0.1482 - val_loss: 0.0322 - val_mae: 0.1445\n",
      "Epoch 4/10\n",
      "127/127 [==============================] - 49s 383ms/step - loss: 0.0304 - mae: 0.1395 - val_loss: 0.0315 - val_mae: 0.1422\n",
      "Epoch 5/10\n",
      "127/127 [==============================] - 51s 402ms/step - loss: 0.0289 - mae: 0.1352 - val_loss: 0.0308 - val_mae: 0.1407\n",
      "Epoch 6/10\n",
      "127/127 [==============================] - 57s 448ms/step - loss: 0.0258 - mae: 0.1277 - val_loss: 0.0311 - val_mae: 0.1398\n",
      "Epoch 7/10\n",
      "127/127 [==============================] - 42s 335ms/step - loss: 0.0226 - mae: 0.1191 - val_loss: 0.0312 - val_mae: 0.1401\n"
     ]
    }
   ],
   "source": [
    "#Imports\n",
    "import tensorflow as tf\n",
    "from tensorflow.keras.models import Sequential \n",
    "from tensorflow.keras.layers import Dense, Dropout, Activation,Flatten,Conv2D, MaxPooling2D\n",
    "from tensorflow.keras.callbacks import TensorBoard\n",
    "from tensorflow.keras.callbacks import EarlyStopping\n",
    "import time\n",
    "from sklearn.model_selection import train_test_split\n",
    "\n",
    "i=0#counter\n",
    "x=[]#Training\n",
    "y=[]#Testing\n",
    " \n",
    "\n",
    "#After running model.fit() open a new terminal in a terminal navigate to the folder that this file exists in and\n",
    "#paste the following command: tensorboard --logdir='log/'\n",
    "#clisk the localhost link it gives you\n",
    "NAME=\"PlayerWinRate-{}\".format(int(time.time()))\n",
    "tensorboard =TensorBoard(log_dir='log/{}'.format(NAME))\n",
    "\n",
    "checkpoint_filepath = '/tmp/checkpoint'\n",
    "BestFit = tf.keras.callbacks.ModelCheckpoint(\n",
    "    filepath=checkpoint_filepath,\n",
    "    save_weights_only=True,\n",
    "    monitor='val_loss',\n",
    "    mode='max',\n",
    "    save_best_only=True)\n",
    "\n",
    "#spliting the test data and the labels\n",
    "for i in range(len(UserStatsArray)):\n",
    "    x.append(UserStatsArray[i][0])\n",
    "    y.append(UserStatsArray[i][1])\n",
    "\n",
    "#spliting the prediction set\n",
    "X_Train, X_Test, Y_Train, Y_Test = train_test_split(x,y, test_size=0.2, random_state=42) \n",
    "\n",
    "#Model Making\n",
    "model= Sequential()\n",
    "model.add(Conv2D(64,(5), input_shape =(49,49,5) ))\n",
    "model.add(Activation(\"relu\"))\n",
    "model.add(MaxPooling2D(pool_size=(2,2)))\n",
    "\n",
    "model.add(Conv2D(64,(5)))\n",
    "model.add(Activation(\"relu\"))\n",
    "model.add(MaxPooling2D(pool_size=(2,2)))\n",
    "\n",
    "model.add(Flatten())\n",
    "model.add(Dense(64))\n",
    "model.add(Activation(\"relu\"))\n",
    "\n",
    "model.add(Dense(1))\n",
    "model.add(Activation('sigmoid'))\n",
    "\n",
    "model.compile(loss=\"mse\",\n",
    "             optimizer=\"adam\",\n",
    "             metrics=['mae'])\n",
    "\n",
    "X_Train=np.asarray(X_Train)\n",
    "Y_Train=np.asarray(Y_Train)\n",
    "\n",
    "#includes an early stop method to avoid anyoverfitting\n",
    "history=model.fit(X_Train,\n",
    "          Y_Train, \n",
    "          batch_size=60, \n",
    "          epochs=10,\n",
    "          verbose=1, \n",
    "          validation_split=0.2, \n",
    "          callbacks=[tensorboard,BestFit,EarlyStopping(monitor='val_loss', patience=2)]\n",
    "         )"
   ]
  },
  {
   "cell_type": "code",
   "execution_count": 27,
   "metadata": {},
   "outputs": [
    {
     "name": "stdout",
     "output_type": "stream",
     "text": [
      "75/75 [==============================] - 3s 36ms/step\n",
      "[[0.46493828]\n",
      " [0.55005705]\n",
      " [0.5140857 ]\n",
      " ...\n",
      " [0.5161222 ]\n",
      " [0.5069793 ]\n",
      " [0.3151585 ]]\n"
     ]
    }
   ],
   "source": [
    "X_Test=np.asarray(X_Test)\n",
    "Y_Test=np.asarray(Y_Test)\n",
    "TestPredictions =model.predict(X_Test,batch_size=32, verbose=1)\n",
    "print(TestPredictions)"
   ]
  },
  {
   "cell_type": "code",
   "execution_count": 28,
   "metadata": {},
   "outputs": [
    {
     "name": "stdout",
     "output_type": "stream",
     "text": [
      "[0.085      0.674      0.57309942 ... 0.513      0.517      0.288     ]\n"
     ]
    }
   ],
   "source": [
    "#comparison of predictions and actual win rates\n",
    "print(Y_Test)"
   ]
  },
  {
   "cell_type": "code",
   "execution_count": 29,
   "metadata": {},
   "outputs": [
    {
     "data": {
      "image/png": "[encoded data removed]",
      "text/plain": [
       "<Figure size 432x288 with 1 Axes>"
      ]
     },
     "metadata": {
      "needs_background": "light"
     },
     "output_type": "display_data"
    }
   ],
   "source": [
    "# this scatter plot compare the predicted winRate vs the Actual winrate the ideal placement on\n",
    "# the ideal place on the graph is directly through the line\n",
    "plt.scatter(Y_Test[:200], TestPredictions[:200])\n",
    "plt.xlabel('Actual WinRate')\n",
    "plt.ylabel('WinRate Predictions')\n",
    "plt.axis('equal')\n",
    "plt.axis('square')\n",
    "plt.xlim([0,1])\n",
    "plt.ylim([0,1])\n",
    "_=plt.plot([-100,100],[-100,100])"
   ]
  },
  {
   "cell_type": "code",
   "execution_count": 36,
   "metadata": {},
   "outputs": [],
   "source": [
    "def plot_loss(history):\n",
    "  plt.plot(history.history['mae'], label='mae')\n",
    "  plt.plot(history.history['val_mae'], label='val_mae')\n",
    "  plt.ylim([0.1, .2])\n",
    "  plt.xlabel('Epoch')\n",
    "  plt.ylabel('Error')\n",
    "  plt.legend()\n",
    "  plt.grid(True)"
   ]
  },
  {
   "cell_type": "code",
   "execution_count": 37,
   "metadata": {},
   "outputs": [
    {
     "data": {
      "image/png": "[encoded data removed]",
      "text/plain": [
       "<Figure size 432x288 with 1 Axes>"
      ]
     },
     "metadata": {
      "needs_background": "light"
     },
     "output_type": "display_data"
    }
   ],
   "source": [
    "plot_loss(history)"
   ]
  },
  {
   "cell_type": "code",
   "execution_count": null,
   "metadata": {},
   "outputs": [],
   "source": []
  }
 ],
 "metadata": {
  "kernelspec": {
   "display_name": "Python 3",
   "language": "python",
   "name": "python3"
  },
  "language_info": {
   "codemirror_mode": {
    "name": "ipython",
    "version": 3
   },
   "file_extension": ".py",
   "mimetype": "text/x-python",
   "name": "python",
   "nbconvert_exporter": "python",
   "pygments_lexer": "ipython3",
   "version": "3.6.9"
  }
 },
 "nbformat": 4,
 "nbformat_minor": 4
}
